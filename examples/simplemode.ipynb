{
 "cells": [
  {
   "cell_type": "markdown",
   "metadata": {},
   "source": [
    "# CodeMirror Simple Modes as JSON for JupyterLab\n",
    "CodeMirror's [simplemode](https://codemirror.net/demo/simplemode.html) provides a data-driven way to create pretty complex grammars. This extension lets you define such a mode with `states`:"
   ]
  },
  {
   "cell_type": "code",
   "execution_count": null,
   "metadata": {},
   "outputs": [],
   "source": [
    "states = {\n",
    "    \"start\": [\n",
    "        {\"regex\": \"#.*\", \"token\": \"comment\", \"sol\": True},\n",
    "        {\"regex\": \"[a-z_]+\", \"token\": \"variable\"},\n",
    "        {\"regex\": \"\\\\d+\", \"token\": \"number\"},\n",
    "        {\"regex\": \"[*+\\\\-!%&\\\\^]+\", \"token\": \"operator\"},\n",
    "    ]\n",
    "}"
   ]
  },
  {
   "cell_type": "markdown",
   "metadata": {},
   "source": [
    "And some wrapper metadata:"
   ]
  },
  {
   "cell_type": "code",
   "execution_count": null,
   "metadata": {},
   "outputs": [],
   "source": [
    "mode = {\n",
    "  \"name\": \"calc\",\n",
    "  \"ext\": [\"calc\"],\n",
    "  \"mode\": \"calc\",\n",
    "  \"mime\": \"calc\",\n",
    "  \"states\": states\n",
    "}"
   ]
  },
  {
   "cell_type": "code",
   "execution_count": null,
   "metadata": {},
   "outputs": [],
   "source": [
    "simplemode_mime = \"application/vnd.jupyter.simplemode.v1+json\""
   ]
  },
  {
   "cell_type": "code",
   "execution_count": null,
   "metadata": {},
   "outputs": [],
   "source": [
    "display({simplemode_mime: mode}, raw=True)"
   ]
  },
  {
   "cell_type": "markdown",
   "metadata": {},
   "source": [
    "If everything happened properly, we can use it _right now_.\n",
    "```calc\n",
    "# this uses our new calc mode\n",
    "1 + 1\n",
    "```"
   ]
  },
  {
   "cell_type": "markdown",
   "metadata": {},
   "source": [
    "It also works with files, preferring the extension `.simplemode.json`."
   ]
  },
  {
   "cell_type": "code",
   "execution_count": null,
   "metadata": {},
   "outputs": [],
   "source": [
    "import json, pathlib"
   ]
  },
  {
   "cell_type": "code",
   "execution_count": null,
   "metadata": {},
   "outputs": [],
   "source": [
    "pathlib.Path(\"calc.simplemode.json\").write_text(json.dumps(mode, indent=2))\n",
    "pathlib.Path(\"example.calc\").write_text(\"\"\"# a calc file\n",
    "1 + 1\n",
    "x = 2\n",
    "\"\"\")"
   ]
  },
  {
   "cell_type": "markdown",
   "metadata": {},
   "source": [
    "Now open [that file](./calc.simplemode.json) (it won't look like much) and an [example](./example.calc)."
   ]
  }
 ],
 "metadata": {
  "kernelspec": {
   "display_name": "Python 3",
   "language": "python",
   "name": "python3"
  },
  "language_info": {
   "codemirror_mode": {
    "name": "ipython",
    "version": 3
   },
   "file_extension": ".py",
   "mimetype": "text/x-python",
   "name": "python",
   "nbconvert_exporter": "python",
   "pygments_lexer": "ipython3",
   "version": "3.7.1"
  }
 },
 "nbformat": 4,
 "nbformat_minor": 2
}
