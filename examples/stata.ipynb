{
 "cells": [
  {
   "cell_type": "markdown",
   "metadata": {},
   "source": [
    "# Reusing the Stata Syntax Highlighting for Atom in JupyterLab"
   ]
  },
  {
   "cell_type": "code",
   "execution_count": null,
   "metadata": {},
   "outputs": [],
   "source": [
    "import json\n",
    "from pathlib import Path\n",
    "from IPython.display import Markdown"
   ]
  },
  {
   "cell_type": "markdown",
   "metadata": {},
   "source": [
    "For demonstration purposes, we need a new MIME type."
   ]
  },
  {
   "cell_type": "code",
   "execution_count": null,
   "metadata": {},
   "outputs": [],
   "source": [
    "tmlanguage_mime = \"application/vnd.jupyter.tmlanguage.v1+json\""
   ]
  },
  {
   "cell_type": "markdown",
   "metadata": {},
   "source": [
    "CSON is trash. It appears you should really only use the nodejs converter, and the in-browser one doesn't work very well either. Let's get it into JSON and be done with it. Before we can get Stata, though, we need SQL (apparently). I don't know how all this stuff works yet, but WFM, YMMV, IANAL, etc."
   ]
  },
  {
   "cell_type": "code",
   "execution_count": null,
   "metadata": {},
   "outputs": [],
   "source": [
    "sql_cson = Path(\"sql.cson\")\n",
    "if not sql_cson.exists():\n",
    "    !wget https://raw.githubusercontent.com/atom/language-sql/master/grammars/sql.cson\n",
    "sql_json = Path(\"sql.json\")\n",
    "if not sql_json.exists():\n",
    "    !../node_modules/.bin/cson2json ./sql.cson > ./sql.json"
   ]
  },
  {
   "cell_type": "markdown",
   "metadata": {},
   "source": [
    "Great, now we can start loading stuff:"
   ]
  },
  {
   "cell_type": "code",
   "execution_count": null,
   "metadata": {},
   "outputs": [],
   "source": [
    "display({\n",
    "    tmlanguage_mime: json.loads(sql_json.read_text())\n",
    "}, metadata=dict(\n",
    "    mode=\"SQL\",\n",
    "    name=\"SQL\",\n",
    "    ext=[\"sql\"],\n",
    "    mime=\"application/x-sql\"\n",
    "), raw=True)"
   ]
  },
  {
   "cell_type": "markdown",
   "metadata": {},
   "source": [
    "Stata uses a bunch of different files. We're just going to handle `.do` files for now, but we should probably relax the `mimetype` to being an `array` for this kind of thing."
   ]
  },
  {
   "cell_type": "code",
   "execution_count": null,
   "metadata": {},
   "outputs": [],
   "source": [
    "stata_cson = Path(\"stata.cson\")\n",
    "if not stata_cson.exists():\n",
    "    !wget https://raw.githubusercontent.com/kylebarron/language-stata/master/grammars/stata.cson\n",
    "stata_json = Path(\"stata.json\")\n",
    "if not stata_json.exists():\n",
    "    !../node_modules/.bin/cson@json ./stata.cson > ./stata.json"
   ]
  },
  {
   "cell_type": "code",
   "execution_count": null,
   "metadata": {},
   "outputs": [],
   "source": [
    "display({\n",
    "    tmlanguage_mime: json.loads(stata_json.read_text())\n",
    "}, metadata=dict(\n",
    "    mode=\"Stata\",\n",
    "    name=\"Stata\",\n",
    "    ext=[\"do\", \"ado\", \"mata\"],\n",
    "    mime=\"application/x-stata-do\"\n",
    "), raw=True)"
   ]
  },
  {
   "cell_type": "markdown",
   "metadata": {},
   "source": [
    "```Stata\n",
    "\n",
    "```"
   ]
  },
  {
   "cell_type": "markdown",
   "metadata": {},
   "source": [
    "Here's a little smoke test: after running a few things above, you should be able to toggle this cell from Markdown to Code a couple times and see Some Stuff.\n",
    "\n",
    "```stata\n",
    "program define hello\n",
    "        display \"Hello, world\"\n",
    "end \n",
    "exit\n",
    "```"
   ]
  },
  {
   "cell_type": "markdown",
   "metadata": {},
   "source": [
    "One does not simply _run_ Stata (without a license), but it does appear there is a fair amount of code out there:"
   ]
  },
  {
   "cell_type": "code",
   "execution_count": null,
   "metadata": {},
   "outputs": [],
   "source": [
    "!ls stata-fundamentals || git clone https://github.com/dlab-berkeley/stata-fundamentals.git\n",
    "[display(Markdown(f\"\"\"<a href=\"{str(p)}\">{p.name}</a>\"\"\"))\n",
    " for p in Path(\"stata-fundamentals\").rglob(\"*.do\")];"
   ]
  },
  {
   "cell_type": "markdown",
   "metadata": {},
   "source": [
    "Click one of those to (hopefully) pop open a new editor... otherwise use the file tree, I guess..."
   ]
  }
 ],
 "metadata": {
  "kernelspec": {
   "display_name": "Python 3",
   "language": "python",
   "name": "python3"
  },
  "language_info": {
   "codemirror_mode": {
    "name": "ipython",
    "version": 3
   },
   "file_extension": ".py",
   "mimetype": "text/x-python",
   "name": "python",
   "nbconvert_exporter": "python",
   "pygments_lexer": "ipython3",
   "version": "3.7.1"
  }
 },
 "nbformat": 4,
 "nbformat_minor": 2
}
