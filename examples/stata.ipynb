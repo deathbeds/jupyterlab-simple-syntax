{
 "cells": [
  {
   "cell_type": "markdown",
   "metadata": {},
   "source": [
    "# Reusing the Stata Syntax Highlighting for Atom in JupyterLab"
   ]
  },
  {
   "cell_type": "code",
   "execution_count": null,
   "metadata": {},
   "outputs": [],
   "source": [
    "import json\n",
    "from pathlib import Path\n",
    "from IPython.display import Markdown"
   ]
  },
  {
   "cell_type": "markdown",
   "metadata": {},
   "source": [
    "For demonstration purposes, we need a new MIME type."
   ]
  },
  {
   "cell_type": "code",
   "execution_count": null,
   "metadata": {},
   "outputs": [],
   "source": [
    "tmlanguage_mime = \"application/vnd.jupyter.tmlanguage.v1+json\""
   ]
  },
  {
   "cell_type": "markdown",
   "metadata": {},
   "source": [
    "CSON is trash. It appears you should really only use the nodejs converter, and the in-browser one doesn't work very well either. Let's get it into JSON and be done with it."
   ]
  },
  {
   "cell_type": "code",
   "execution_count": null,
   "metadata": {},
   "outputs": [],
   "source": [
    "stata_cson = Path(\"stata.cson\")\n",
    "if not stata_cson.exists():\n",
    "    !wget https://raw.githubusercontent.com/kylebarron/language-stata/master/grammars/stata.cson\n",
    "stata_json = Path(\"stata.json\")\n",
    "if not stata_json.exists():\n",
    "    !../node_modules/.bin/csonc ./stata.cson --output ./stata.json"
   ]
  },
  {
   "cell_type": "markdown",
   "metadata": {},
   "source": [
    "Stata uses a bunch of different files. We're just going to handle `.do` files for now, but we should probably relax the `mimetype` to being an `array` for this kind of thing."
   ]
  },
  {
   "cell_type": "code",
   "execution_count": null,
   "metadata": {},
   "outputs": [],
   "source": [
    "display({\n",
    "    tmlanguage_mime: json.loads(stata_json.read_text())\n",
    "}, metadata=dict(\n",
    "    mode=\"Stata\",\n",
    "    name=\"Stata\",\n",
    "    ext=[\"do\", \"ado\", \"mata\"],\n",
    "    mime=\"application/x-stata-do\",\n",
    "    options={\"scopeTranslations\": {\n",
    "        \"entity.name.type.class.stata\": \"variable\",\n",
    "        \"support.function.builtin.stata\": \"builtin\"\n",
    "    }}\n",
    "), raw=True)"
   ]
  },
  {
   "cell_type": "markdown",
   "metadata": {},
   "source": [
    "One does not simply _run_ stata, but it does appear there is a fair amount of code out there."
   ]
  },
  {
   "cell_type": "code",
   "execution_count": null,
   "metadata": {},
   "outputs": [],
   "source": [
    "!ls stata-fundamentals || git clone https://github.com/dlab-berkeley/stata-fundamentals.git\n",
    "[display(Markdown(f\"\"\"<a href=\"{str(p)}\">{p.name}</a>\"\"\"))\n",
    " for p in Path(\"stata-fundamentals\").rglob(\"*.do\")];"
   ]
  },
  {
   "cell_type": "code",
   "execution_count": null,
   "metadata": {},
   "outputs": [],
   "source": []
  }
 ],
 "metadata": {
  "kernelspec": {
   "display_name": "Python 3",
   "language": "python",
   "name": "python3"
  },
  "language_info": {
   "codemirror_mode": {
    "name": "ipython",
    "version": 3
   },
   "file_extension": ".py",
   "mimetype": "text/x-python",
   "name": "python",
   "nbconvert_exporter": "python",
   "pygments_lexer": "ipython3",
   "version": "3.7.1"
  }
 },
 "nbformat": 4,
 "nbformat_minor": 2
}
