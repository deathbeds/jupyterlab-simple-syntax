{
 "cells": [
  {
   "cell_type": "markdown",
   "metadata": {},
   "source": [
    "# Examples for `jupyterlab-simple-syntax`\n",
    "\n",
    "Based on [this issue](https://github.com/jupyterlab/jupyterlab/issues/5504), this extension explores some options for reducing barriers to getting informative, beautiful text in JupyterLab without writing (much) TypeScript.\n",
    "\n",
    "- [Making Very Simple Modes](./simplemode.ipynb)\n",
    "- [Reusing a tmlanguage: Stan](./tmlanguage.ipynb)\n",
    "- [Another tmlanguage: Stata](./stata.ipynb)"
   ]
  }
 ],
 "metadata": {
  "kernelspec": {
   "display_name": "Python 3",
   "language": "python",
   "name": "python3"
  },
  "language_info": {
   "codemirror_mode": {
    "name": "ipython",
    "version": 3
   },
   "file_extension": ".py",
   "mimetype": "text/x-python",
   "name": "python",
   "nbconvert_exporter": "python",
   "pygments_lexer": "ipython3",
   "version": "3.7.1"
  }
 },
 "nbformat": 4,
 "nbformat_minor": 2
}
