{
 "cells": [
  {
   "cell_type": "markdown",
   "metadata": {},
   "source": [
    "# TextMate syntax grammars in JupyterLab"
   ]
  },
  {
   "cell_type": "code",
   "execution_count": null,
   "metadata": {},
   "outputs": [],
   "source": [
    "from pathlib import Path\n",
    "import json"
   ]
  },
  {
   "cell_type": "markdown",
   "metadata": {},
   "source": [
    "For demonstration purposes, we need a new MIME type."
   ]
  },
  {
   "cell_type": "code",
   "execution_count": null,
   "metadata": {},
   "outputs": [],
   "source": [
    "tmlanguage_mime = \"application/vnd.jupyter.tmlanguage.v1+json\""
   ]
  },
  {
   "cell_type": "markdown",
   "metadata": {},
   "source": [
    "Maybe go get an example language, in this case for [Stan](https://github.com/stan-dev)."
   ]
  },
  {
   "cell_type": "code",
   "execution_count": null,
   "metadata": {},
   "outputs": [],
   "source": [
    "stan_json = Path(\"language-stan.json\")\n",
    "if not stan_json.exists():\n",
    "    !wget https://raw.githubusercontent.com/jrnold/atom-language-stan/master/grammars/language-stan.json"
   ]
  },
  {
   "cell_type": "markdown",
   "metadata": {},
   "source": [
    "We'll also want a largish example of a stan file... luckily there's an extensive [example repo](https://github.com/stan-dev/example-models)."
   ]
  },
  {
   "cell_type": "code",
   "execution_count": null,
   "metadata": {},
   "outputs": [],
   "source": [
    "stan_examples = Path(\"example-models\")\n",
    "if not stan_examples.exists():\n",
    "    !git clone https://github.com/stan-dev/example-models"
   ]
  },
  {
   "cell_type": "markdown",
   "metadata": {},
   "source": [
    "The [tmlanguage spec](https://github.com/martinring/tmlanguage/blob/master/tmlanguage.json) apparently doesn't provide MIME types or file extensions, so we have to backfill."
   ]
  },
  {
   "cell_type": "code",
   "execution_count": null,
   "metadata": {},
   "outputs": [],
   "source": [
    "display({\n",
    "    tmlanguage_mime: json.loads(stan_json.read_text())\n",
    "}, metadata=dict(\n",
    "    mode=\"Stan\",\n",
    "    name=\"Stan\",\n",
    "    ext=[\"stan\"],\n",
    "    mime=\"application/x-stan\",\n",
    "    options={\"scopeTranslations\": {\n",
    "        \"entity.name.type.stan\": \"header\",\n",
    "    }}\n",
    "), raw=True)"
   ]
  },
  {
   "cell_type": "markdown",
   "metadata": {},
   "source": [
    "If that worked, we should be able to start using `stan` as a type, and open [`.stan` files](./example-models/bugs_examples/vol1/stacks/stacks_b_dexp.stan) with nice syntax.\n",
    "```stan\n",
    "#DOC See \\url{http://www.openbugs.net/Examples/Blockers.html}.\n",
    "data {\n",
    "  int<lower=0> N; \n",
    "  int<lower=0> nt[N]; \n",
    "  int<lower=0> rt[N]; \n",
    "  int<lower=0> nc[N]; \n",
    "  int<lower=0> rc[N]; \n",
    "} \n",
    "parameters {\n",
    "  real d; \n",
    "  real<lower=0> sigmasq_delta; \n",
    "  vector[N] mu;\n",
    "  vector[N] delta;\n",
    "  real delta_new;\n",
    "} \n",
    "transformed parameters {\n",
    "  real<lower=0> sigma_delta; \n",
    "  sigma_delta <- sqrt(sigmasq_delta); \n",
    "} \n",
    "model {\n",
    "  rt ~ binomial_logit(nt, mu + delta);\n",
    "  rc ~ binomial_logit(nc, mu);\n",
    "  delta  ~ student_t(4, d, sigma_delta); \n",
    "  mu ~ normal(0, sqrt(1E5));\n",
    "  d ~ normal(0, 1E3); \n",
    "  sigmasq_delta ~ inv_gamma(1E-3, 1E-3); \n",
    "  // FIXME: sample in generated quantities in later version\n",
    "  delta_new ~ student_t(4, d, sigma_delta); \n",
    "}\n",
    "```"
   ]
  },
  {
   "cell_type": "code",
   "execution_count": null,
   "metadata": {},
   "outputs": [],
   "source": []
  }
 ],
 "metadata": {
  "kernelspec": {
   "display_name": "Python 3",
   "language": "python",
   "name": "python3"
  },
  "language_info": {
   "codemirror_mode": {
    "name": "ipython",
    "version": 3
   },
   "file_extension": ".py",
   "mimetype": "text/x-python",
   "name": "python",
   "nbconvert_exporter": "python",
   "pygments_lexer": "ipython3",
   "version": "3.7.1"
  }
 },
 "nbformat": 4,
 "nbformat_minor": 2
}
